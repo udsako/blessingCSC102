{
 "cells": [
  {
   "cell_type": "code",
   "execution_count": null,
   "id": "7b188310",
   "metadata": {},
   "outputs": [],
   "source": [
    "Name_1 = {'Samantha', 'Jade', 'Jane', 'Claire', 'Elizabeth', 'Mary', 'Susan', 'Waje', 'Taibat', 'Lilian'}\n",
    "Age_1 = {'17', '16', '17', '18', '16', '18', '17', '20', '19', '17'}\n",
    "Height_1 = {'5.5', '6.0', '5.4', '5.9', '5.6', '5.5', '6.1', '6.0', '5.7', '5.5'}\n",
    "Scores_1 = {'80', '85', '70', '60', '76', '66', '87', '95', '50', '49'}\n",
    "\n",
    "Name_2 = {'Charles', 'Jude', 'James', 'Kelvin', 'Biodun', 'Wale', 'Kunle', 'Matthew', 'Tom', 'Kayode'}\n",
    "Age_2 = {'19', '16', '18', '17', '20', '19', '16', '18', '17', '19'}\n",
    "Height_2 = {'5.7', '5.9', '5.8', '6.1', '5.9', '5.5', '6.1', '5.4', '5.8', '5.7'}\n",
    "Scores_2 = {'74', '87', '75', '68', '66', '78', '87', '98', '54', '60'}\n"
   ]
  }
 ],
 "metadata": {
  "kernelspec": {
   "display_name": "Python 3 (ipykernel)",
   "language": "python",
   "name": "python3"
  },
  "language_info": {
   "codemirror_mode": {
    "name": "ipython",
    "version": 3
   },
   "file_extension": ".py",
   "mimetype": "text/x-python",
   "name": "python",
   "nbconvert_exporter": "python",
   "pygments_lexer": "ipython3",
   "version": "3.10.9"
  }
 },
 "nbformat": 4,
 "nbformat_minor": 5
}
