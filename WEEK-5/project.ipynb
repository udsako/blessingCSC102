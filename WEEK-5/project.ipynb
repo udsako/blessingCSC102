{
 "cells": [
  {
   "cell_type": "code",
   "execution_count": 3,
   "id": "ec87e0e0",
   "metadata": {},
   "outputs": [
    {
     "name": "stdout",
     "output_type": "stream",
     "text": [
      "[['First Name', 'Age', 'Height', 'Scores'], ['Samantha', '17', '5.5', '80'], ['Jade', '16', '6.0', '85'], ['Jane', '17', '5.4', '70'], ['Claire', '18', '5.9', '60'], ['Elizabeth', '16', '5.6', '76'], ['Mary', '18', '5.5', '66'], ['Susan', '17', '6.1', '87'], ['Waje', '20', '6.0', '95'], ['Taibat', '19', '5.7', '50'], ['Lilian', '17', '5.5', '49']]\n",
      "[['First Name', 'Age', 'Height', 'Scores'], ['Charles', '19', '5.7', '74'], ['Jude', '16', '5.9', '87'], ['James', '18', '5.8', '75'], ['Kelvin', '176.1', '68'], ['Biodun', '20', '5,9', '66'], ['Wale', '19', '5.5', '78'], ['Kunle', '16', '6.1', '87'], ['Matthew', '18', '5,4', '98'], ['Tom', '17', '5.8', '54'], ['Kayode', '19', '5.7', '60']]\n"
     ]
    }
   ],
   "source": [
    "table_1 = [['First Name', 'Age', 'Height', 'Scores'],\n",
    "        ['Samantha', '17', '5.5', '80'],\n",
    "        ['Jade', '16', '6.0', '85'],\n",
    "        ['Jane', '17', '5.4', '70'],\n",
    "        ['Claire', '18', '5.9', '60'],\n",
    "        ['Elizabeth', '16', '5.6', '76'],\n",
    "        ['Mary', '18', '5.5', '66'],\n",
    "        ['Susan', '17', '6.1', '87'],\n",
    "        ['Waje', '20', '6.0', '95'],\n",
    "        ['Taibat', '19', '5.7', '50'],\n",
    "        ['Lilian', '17', '5.5', '49']] \n",
    "print(table_1)\n",
    "\n",
    "table_2 = [['First Name', 'Age', 'Height', 'Scores'],\n",
    "        ['Charles', '19', '5.7', '74'],\n",
    "        ['Jude', '16', '5.9', '87'],\n",
    "        ['James', '18', '5.8', '75'],\n",
    "        ['Kelvin', '17' '6.1', '68'],\n",
    "        ['Biodun', '20', '5,9', '66'],\n",
    "        ['Wale', '19', '5.5', '78'],\n",
    "        ['Kunle', '16', '6.1', '87'],\n",
    "        ['Matthew', '18', '5,4', '98'],\n",
    "        ['Tom', '17', '5.8', '54'],\n",
    "        ['Kayode', '19', '5.7', '60']]\n",
    "print(table_2)"
   ]
  },
  {
   "cell_type": "code",
   "execution_count": null,
   "id": "55483935",
   "metadata": {},
   "outputs": [],
   "source": []
  }
 ],
 "metadata": {
  "kernelspec": {
   "display_name": "Python 3 (ipykernel)",
   "language": "python",
   "name": "python3"
  },
  "language_info": {
   "codemirror_mode": {
    "name": "ipython",
    "version": 3
   },
   "file_extension": ".py",
   "mimetype": "text/x-python",
   "name": "python",
   "nbconvert_exporter": "python",
   "pygments_lexer": "ipython3",
   "version": "3.10.9"
  }
 },
 "nbformat": 4,
 "nbformat_minor": 5
}
