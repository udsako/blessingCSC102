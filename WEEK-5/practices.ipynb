{
 "cells": [
  {
   "cell_type": "code",
   "execution_count": 1,
   "id": "39cc6533",
   "metadata": {},
   "outputs": [
    {
     "name": "stdout",
     "output_type": "stream",
     "text": [
      "Enter name of City 1: lekki\n",
      "Enter name of City 2: ajah\n",
      "The name of City 1 after swapping is ajah\n",
      "The name of City 2 after swapping is lekki\n"
     ]
    }
   ],
   "source": [
    "city_1 = input('Enter name of City 1: ')\n",
    "city_2 = input('Enter name of City 2: ')\n",
    "\n",
    "temp = city_1\n",
    "city_1 = city_2\n",
    "city_2 = temp\n",
    "\n",
    "print(f\"The name of City 1 after swapping is {city_1}\")\n",
    "print(f\"The name of City 2 after swapping is {city_2}\") "
   ]
  },
  {
   "cell_type": "code",
   "execution_count": 3,
   "id": "f8a6cfe6",
   "metadata": {},
   "outputs": [
    {
     "name": "stdout",
     "output_type": "stream",
     "text": [
      "Enter a number: 3\n",
      "Positive number\n"
     ]
    }
   ],
   "source": [
    "num = float(input(\"Enter a number: \"))\n",
    "if num > 0:\n",
    "    print(\"Positive number\")\n",
    "elif num == 0:\n",
    "    print(\"Zero\")\n",
    "else:\n",
    "    print(\"Negative number\")"
   ]
  },
  {
   "cell_type": "code",
   "execution_count": 6,
   "id": "f6725d0c",
   "metadata": {},
   "outputs": [
    {
     "name": "stdout",
     "output_type": "stream",
     "text": [
      "Welcome to the COUPE DE ECRIVA 2023: FOOTBALL PICKS \n",
      "\n",
      "Madiba:  Chubby Obiora-Okafo\n",
      "Blue Jays:  Christoper Uweh\n",
      "Cirok:  Alexander\n",
      "TSG Walkers:  Ikechukwu\n",
      "\n",
      "\n",
      "Madiba:  Chubby Obiora-Okafo\n",
      "Blue Jays:  Oladimeji Abaniwonda/Jeffery Awagu\n",
      "Cirok:  Timileyin Pearse/Izuako Jeremy\n",
      "TSG Walkers:  Ayomide Ojituku\n"
     ]
    }
   ],
   "source": [
    "print(\"Welcome to the COUPE DE ECRIVA 2023: FOOTBALL PICKS \\n\")\n",
    "\n",
    "captain = {'Madiba: ': 'Chubby Obiora-Okafo', 'Blue Jays: ': 'Christoper Uweh', 'Cirok: ': 'Alexander', 'TSG Walkers: ': 'Ikechukwu'}\n",
    "\n",
    "goalkeepers = {'Madiba: ': 'Chubby Obiora-Okafo', 'Blue Jays: ': 'Oladimeji Abaniwonda/Jeffery Awagu', 'Cirok: ': 'Timileyin Pearse/Izuako Jeremy', 'TSG Walkers: ': 'Ayomide Ojituku'}\n",
    "\n",
    "for pick in captain:\n",
    "    print(pick, captain[pick])\n",
    "print(\"\\n\")\n",
    "\n",
    "for pick in goalkeepers:\n",
    "    print(pick, goalkeepers[pick])"
   ]
  },
  {
   "cell_type": "code",
   "execution_count": null,
   "id": "db97c778",
   "metadata": {},
   "outputs": [],
   "source": []
  }
 ],
 "metadata": {
  "kernelspec": {
   "display_name": "Python 3 (ipykernel)",
   "language": "python",
   "name": "python3"
  },
  "language_info": {
   "codemirror_mode": {
    "name": "ipython",
    "version": 3
   },
   "file_extension": ".py",
   "mimetype": "text/x-python",
   "name": "python",
   "nbconvert_exporter": "python",
   "pygments_lexer": "ipython3",
   "version": "3.10.9"
  }
 },
 "nbformat": 4,
 "nbformat_minor": 5
}
