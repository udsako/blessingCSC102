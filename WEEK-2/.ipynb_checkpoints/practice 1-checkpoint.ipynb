{
 "cells": [
  {
   "cell_type": "code",
   "execution_count": 1,
   "id": "8217aaf8",
   "metadata": {},
   "outputs": [
    {
     "name": "stdout",
     "output_type": "stream",
     "text": [
      "100\n",
      "Data Type of variable num is <class 'int'>\n",
      "34.45\n",
      "Data Type of variable fnum is <class 'float'>\n",
      "(3+4j)\n",
      "Data Type of variable cnum is <class 'complex'>\n"
     ]
    }
   ],
   "source": [
    "num = 100\n",
    "print(num)\n",
    "print(\"Data Type of variable num is\", type(num))\n",
    "\n",
    "fnum = 34.45\n",
    "print(fnum)\n",
    "print(\"Data Type of variable fnum is\", type(fnum))\n",
    "\n",
    "cnum = 3 + 4j\n",
    "print(cnum)\n",
    "print(\"Data Type of variable cnum is\", type(cnum))"
   ]
  },
  {
   "cell_type": "code",
   "execution_count": null,
   "id": "e8a5e202",
   "metadata": {},
   "outputs": [],
   "source": []
  }
 ],
 "metadata": {
  "kernelspec": {
   "display_name": "Python 3 (ipykernel)",
   "language": "python",
   "name": "python3"
  },
  "language_info": {
   "codemirror_mode": {
    "name": "ipython",
    "version": 3
   },
   "file_extension": ".py",
   "mimetype": "text/x-python",
   "name": "python",
   "nbconvert_exporter": "python",
   "pygments_lexer": "ipython3",
   "version": "3.10.9"
  }
 },
 "nbformat": 4,
 "nbformat_minor": 5
}
