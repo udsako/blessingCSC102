{
 "cells": [
  {
   "cell_type": "code",
   "execution_count": 50,
   "id": "e9450254",
   "metadata": {},
   "outputs": [
    {
     "name": "stdout",
     "output_type": "stream",
     "text": [
      "Enter principal2\n",
      "Enter rate3\n",
      "Enter time taken1\n",
      "The simple interest is 2.06\n"
     ]
    }
   ],
   "source": [
    "p = float(input(\"Enter principal\"))\n",
    "\n",
    "r = float(input(\"Enter rate\"))\n",
    "\n",
    "t = float(input(\"Enter time taken\"))\n",
    "\n",
    "R = r / 100\n",
    "i = R * t\n",
    "c = 1 + i\n",
    "A = p * c\n",
    "\n",
    "print(\"The simple interest is\", A) \n"
   ]
  },
  {
   "cell_type": "code",
   "execution_count": 51,
   "id": "a47e33d3",
   "metadata": {},
   "outputs": [
    {
     "name": "stdout",
     "output_type": "stream",
     "text": [
      "Enter principal2\n",
      "Enter rate4\n",
      "Enter time taken2\n",
      "Enter n value1\n",
      "The compound interest is 50.0\n"
     ]
    }
   ],
   "source": [
    "p = float(input(\"Enter principal\"))\n",
    "\n",
    "r = float(input(\"Enter rate\"))\n",
    "\n",
    "t = float(input(\"Enter time taken\"))\n",
    "\n",
    "n = float(input(\"Enter n value\"))\n",
    "\n",
    "R = r / n \n",
    "\n",
    "c = 1 + R\n",
    "\n",
    "s = c ** (n * t)\n",
    "\n",
    "A = p * s\n",
    "\n",
    "print(\"The compound interest is\", A)"
   ]
  },
  {
   "cell_type": "code",
   "execution_count": 52,
   "id": "7a2efbcf",
   "metadata": {},
   "outputs": [
    {
     "name": "stdout",
     "output_type": "stream",
     "text": [
      "Enter principal1\n",
      "Enter rate2\n",
      "Enter time taken3\n",
      "Enter n value4\n",
      "Enter pmt value50\n",
      "The Annuity plan is 12874.6337890625\n"
     ]
    }
   ],
   "source": [
    "p = float(input(\"Enter principal\"))\n",
    "\n",
    "r = float(input(\"Enter rate\"))\n",
    "\n",
    "t = float(input(\"Enter time taken\"))\n",
    "\n",
    "n = float(input(\"Enter n value\"))\n",
    "\n",
    "pmt = float(input(\"Enter pmt value\"))\n",
    "\n",
    "R = r / n \n",
    "\n",
    "c = 1 + R\n",
    "\n",
    "s = c ** (n * t)\n",
    "\n",
    "d = s - 1\n",
    "\n",
    "F = (pmt * d) / R\n",
    "\n",
    "print(\"The Annuity plan is\", F) "
   ]
  },
  {
   "cell_type": "code",
   "execution_count": null,
   "id": "7f5cef23",
   "metadata": {},
   "outputs": [],
   "source": []
  }
 ],
 "metadata": {
  "kernelspec": {
   "display_name": "Python 3 (ipykernel)",
   "language": "python",
   "name": "python3"
  },
  "language_info": {
   "codemirror_mode": {
    "name": "ipython",
    "version": 3
   },
   "file_extension": ".py",
   "mimetype": "text/x-python",
   "name": "python",
   "nbconvert_exporter": "python",
   "pygments_lexer": "ipython3",
   "version": "3.10.9"
  }
 },
 "nbformat": 4,
 "nbformat_minor": 5
}
