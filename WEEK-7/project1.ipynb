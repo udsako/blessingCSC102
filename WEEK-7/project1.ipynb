{
 "cells": [
  {
   "cell_type": "code",
   "execution_count": 20,
   "id": "3c0a1e5f",
   "metadata": {},
   "outputs": [
    {
     "name": "stdout",
     "output_type": "stream",
     "text": [
      "Enter your surname: AKINDE\n",
      "Enter your department: ACOUNTING\n",
      "Sorry, we could not find an employee with the name and department\n",
      "Sorry, we could not find an employee with the name and department\n"
     ]
    }
   ],
   "source": [
    "import pandas as pd \n",
    "\n",
    "data = pd.read_csv(\"jt-ventures.csv\", usecols=[\"SURNAME\", \"DEPARTMENT\"])\n",
    "\n",
    "surname = input(\"Enter your surname: \")\n",
    "department = input(\"Enter your department: \")\n",
    "\n",
    "df = pd.DataFrame(data)\n",
    "columns = list(df)\n",
    "\n",
    "for i in columns:\n",
    "    if surname == df[i][0] :\n",
    "        print(\"Welcome employee\")\n",
    "        print(\"Here is the office profile\")\n",
    "    else:\n",
    "        print(\"Sorry, we could not find an employee with the name and department\") \n",
    "        \n"
   ]
  },
  {
   "cell_type": "code",
   "execution_count": null,
   "id": "0e080a10",
   "metadata": {},
   "outputs": [],
   "source": []
  },
  {
   "cell_type": "code",
   "execution_count": null,
   "id": "f3d3236a",
   "metadata": {},
   "outputs": [],
   "source": []
  }
 ],
 "metadata": {
  "kernelspec": {
   "display_name": "Python 3 (ipykernel)",
   "language": "python",
   "name": "python3"
  },
  "language_info": {
   "codemirror_mode": {
    "name": "ipython",
    "version": 3
   },
   "file_extension": ".py",
   "mimetype": "text/x-python",
   "name": "python",
   "nbconvert_exporter": "python",
   "pygments_lexer": "ipython3",
   "version": "3.10.9"
  }
 },
 "nbformat": 4,
 "nbformat_minor": 5
}
