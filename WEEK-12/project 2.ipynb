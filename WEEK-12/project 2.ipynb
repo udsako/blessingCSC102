{
 "cells": [
  {
   "cell_type": "code",
   "execution_count": 6,
   "id": "d5e48de3",
   "metadata": {},
   "outputs": [
    {
     "name": "stdout",
     "output_type": "stream",
     "text": [
      "Enter the store of choice: Cooperative Cafeteria\n",
      "The Vendor\n",
      "              Main_meal  Price\n",
      "0  Jollof Rice and Stew    200\n",
      "1   White Rice and Stew    200\n",
      "2            Fried Rice    200\n",
      "3                 Salad    100\n",
      "4              Plantain    100\n"
     ]
    }
   ],
   "source": [
    "from abc import ABC, abstractmethod\n",
    "import pandas as pd\n",
    " \n",
    "class External_Vendors(ABC):\n",
    "    @abstractmethod\n",
    "    def menu(self):\n",
    "        pass\n",
    "\n",
    "class Cooperative_Cafeteria(External_Vendors):\n",
    "    def menu(self):\n",
    "        print(\"The Vendor\")\n",
    "        \n",
    "        Cooperative_Cafeteria = {'Main_meal':['Jollof Rice and Stew', 'White Rice and Stew', 'Fried Rice', 'Salad', 'Plantain'],\n",
    "        'Price':[200, 200, 200, 100, 100]}\n",
    "\n",
    "        df = pd.DataFrame(Cooperative_Cafeteria)\n",
    "\n",
    "        print(df)\n",
    "\n",
    "class Faith_Hostel_Cafeteria(External_Vendors):\n",
    "    def menu(self):\n",
    "        print(\"The vendor\")\n",
    "        \n",
    "        Faith_Hostel_Cafeteria = {'Main_meal':['Fried Rice', 'White Rice and Stew', 'Jollof Rice', 'Beans', 'Chicken'],\n",
    "        'Price':[400, 400, 400, 200, 1000]}\n",
    "\n",
    "        df = pd.DataFrame(Faith_Hostel_Cafeteria)\n",
    "\n",
    "        print(df)\n",
    "\n",
    "class Student_Center_Cafeteria(External_Vendors):\n",
    "    def menu(self):\n",
    "        print(\"The Vendor\")\n",
    "        \n",
    "        Student_Center_Cafeteria = {'Main_meal':['Chicken Fried Rice', 'Pomo Sauce', 'Spaghetti Jolof', 'Amala/Ewedu', 'Semo with Eforiro Soup'],\n",
    "        'Price':[800, 300, 500, 500, 500]}\n",
    "\n",
    "        df = pd.DataFrame(Student_Center_Cafeteria)\n",
    "\n",
    "        print(df)\n",
    "\n",
    "buyer = input(\"Enter the store of choice: \")\n",
    "\n",
    "if buyer == \"Cooperative Cafeteria\":\n",
    "    vendor = Cooperative_Cafeteria()\n",
    "elif buyer == \"Faith Hostel Cafeteria\":\n",
    "    vendor = Faith_Hostel_Cafteria()\n",
    "elif buyer == \"Student Center Cafeteria\":\n",
    "    vendor = Student_Center_Cafeteria()\n",
    "\n",
    "vendor.menu()\n",
    "        \n"
   ]
  },
  {
   "cell_type": "code",
   "execution_count": null,
   "id": "f3892320",
   "metadata": {},
   "outputs": [],
   "source": []
  }
 ],
 "metadata": {
  "kernelspec": {
   "display_name": "Python 3 (ipykernel)",
   "language": "python",
   "name": "python3"
  },
  "language_info": {
   "codemirror_mode": {
    "name": "ipython",
    "version": 3
   },
   "file_extension": ".py",
   "mimetype": "text/x-python",
   "name": "python",
   "nbconvert_exporter": "python",
   "pygments_lexer": "ipython3",
   "version": "3.10.9"
  }
 },
 "nbformat": 4,
 "nbformat_minor": 5
}
