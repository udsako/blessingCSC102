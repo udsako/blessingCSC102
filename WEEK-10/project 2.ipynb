{
 "cells": [
  {
   "cell_type": "code",
   "execution_count": 9,
   "id": "7ec0bfd9",
   "metadata": {},
   "outputs": [
    {
     "name": "stdout",
     "output_type": "stream",
     "text": [
      "Select an equation:\n",
      "1. Area of trapezium\n",
      "2. Area of rhombus\n",
      "3. Area of parallelogram\n",
      "4. Area of cube\n",
      "5. Volume of cylinder\n",
      "Enter your option (1-5): 1\n",
      "Enter the first base2\n",
      "Enter the second base3\n",
      "Enter the height1\n",
      "The area of the Trapezium is: 2.5\n"
     ]
    }
   ],
   "source": [
    "import math\n",
    "class calculations():\n",
    "    def area_of_trapezium(self):\n",
    "        base1 = int(input(\"Enter the first base\"))\n",
    "        base2 = int(input(\"Enter the second base\"))\n",
    "        height = int(input(\"Enter the height\"))\n",
    "        \n",
    "        area = ((base1 + base2) * height) /2\n",
    "        print(\"The area of the Trapezium is:\" ,area)\n",
    "    \n",
    "    def area_of_rhombus(self):\n",
    "        diagonal1 = int(input(\"Enter the first diagonal\"))\n",
    "        diagonal2 = int(input(\"Enter the second diagonal\"))\n",
    "        \n",
    "        area = (1 / 2 * diagonal1 * diagonal2)\n",
    "        print(\"The area of the rhombus is:\" ,area)\n",
    "        \n",
    "    def area_of_parallelogram(self):\n",
    "        base = int(input(\"Enter the base\"))\n",
    "        altitude = int(input(\"Enter the altitude\"))\n",
    "        \n",
    "        area = (base * altitude)\n",
    "        print(\"The area of the paralelogram is:\" ,area)\n",
    "        \n",
    "    def area_of_cube(self):\n",
    "        length = int(input(\"Enter the length\"))\n",
    "        \n",
    "        area = (6 * (length ^ 2))\n",
    "        print(\"The area of the cube is:\" ,area)\n",
    "        \n",
    "    def volume_of_cylinder(self):\n",
    "        radius = int(input(\"Enter the radius\"))\n",
    "        height = int(input(\"Enter the height\"))\n",
    "        \n",
    "        area = (math.pi * (radius ^ 2) * height)\n",
    "        print(\"The volume of the cylinder is:\" ,area)\n",
    "        \n",
    "maths = calculations()\n",
    "\n",
    "print(\"Select an equation:\")\n",
    "print(\"1. Area of trapezium\")\n",
    "print(\"2. Area of rhombus\")\n",
    "print(\"3. Area of parallelogram\")\n",
    "print(\"4. Area of cube\")\n",
    "print(\"5. Volume of cylinder\")\n",
    "\n",
    "option = int(input(\"Enter your option (1-5): \"))\n",
    "\n",
    "if option  == 1:\n",
    "    maths.area_of_trapezium()\n",
    "elif option == 2:\n",
    "    maths.area_of_rhombus()\n",
    "elif option == 3:\n",
    "    maths.area_of_parallelogram()\n",
    "elif option == 4:\n",
    "    maths.area_of_cube()\n",
    "elif option == 5:\n",
    "    maths.volume_of_cylinder()\n",
    "else:\n",
    "    print(\"Invalid option. Please select an option (1-5).\")\n",
    "        \n",
    "        \n",
    "        "
   ]
  },
  {
   "cell_type": "code",
   "execution_count": null,
   "id": "6c20e24a",
   "metadata": {},
   "outputs": [],
   "source": []
  },
  {
   "cell_type": "code",
   "execution_count": null,
   "id": "f16082f7",
   "metadata": {},
   "outputs": [],
   "source": []
  }
 ],
 "metadata": {
  "kernelspec": {
   "display_name": "Python 3 (ipykernel)",
   "language": "python",
   "name": "python3"
  },
  "language_info": {
   "codemirror_mode": {
    "name": "ipython",
    "version": 3
   },
   "file_extension": ".py",
   "mimetype": "text/x-python",
   "name": "python",
   "nbconvert_exporter": "python",
   "pygments_lexer": "ipython3",
   "version": "3.10.9"
  }
 },
 "nbformat": 4,
 "nbformat_minor": 5
}
