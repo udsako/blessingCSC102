{
 "cells": [
  {
   "cell_type": "code",
   "execution_count": 9,
   "id": "d20a4a94",
   "metadata": {},
   "outputs": [
    {
     "name": "stdout",
     "output_type": "stream",
     "text": [
      "None\n"
     ]
    }
   ],
   "source": [
    "import pandas as pd\n",
    "class drinks():\n",
    "    def brewies(self):\n",
    "        Nigerian_Brewies_Plc = {'Lager':[\"33 Exports\", \"Desperados\", \"Goldberg\", \"Gulder\", \"Heineken\", \"Star\"],\n",
    "                       'Stout':[\"Legend\", \"Turbo King\", \"Williams\", \"\", \"\", \"\"],\n",
    "                       'Non-Alcoholic':[\"Maltina\", \"Amstel Malta\", \"Malta Gold\", \"Fayrouz\", \"\", \"\"]}\n",
    "\n",
    "        df = pd.DataFrame(Nigerian_Brewies_Plc)\n",
    "\n",
    "        df.to_csv('Nigerian_Brewies_Plc.csv')\n",
    "        \n",
    "sugar = drinks()\n",
    "sugar.brewies()\n",
    "print(sugar.brewies())"
   ]
  },
  {
   "cell_type": "code",
   "execution_count": null,
   "id": "c7d8629f",
   "metadata": {},
   "outputs": [],
   "source": []
  }
 ],
 "metadata": {
  "kernelspec": {
   "display_name": "Python 3 (ipykernel)",
   "language": "python",
   "name": "python3"
  },
  "language_info": {
   "codemirror_mode": {
    "name": "ipython",
    "version": 3
   },
   "file_extension": ".py",
   "mimetype": "text/x-python",
   "name": "python",
   "nbconvert_exporter": "python",
   "pygments_lexer": "ipython3",
   "version": "3.10.9"
  }
 },
 "nbformat": 4,
 "nbformat_minor": 5
}
