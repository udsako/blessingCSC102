{
 "cells": [
  {
   "cell_type": "code",
   "execution_count": 52,
   "id": "62abd00c",
   "metadata": {},
   "outputs": [
    {
     "name": "stdout",
     "output_type": "stream",
     "text": [
      "Enter the number of oranges you want: 566\n",
      "Sorry, the number of quantity chosen is more than available stock\n"
     ]
    }
   ],
   "source": [
    "class oranges():\n",
    "    def __init__(self, stock_quantity, price):\n",
    "        self.stock_quantity = stock_quantity\n",
    "        self.price = price\n",
    "    def buy_oranges(self, quantity):\n",
    "    \n",
    "        if quantity <= self.stock_quantity:\n",
    "            total_cost = quantity * self.price\n",
    "            print(\"Total cost is: $\" ,total_cost)\n",
    "            print(\"Thank you for your patronage\")\n",
    "        else:\n",
    "            print(\"Sorry, the number of quantity chosen is more than available stock\")\n",
    "            \n",
    "    \n",
    "store = oranges(100, 50)\n",
    "requested_quantity = int(input(\"Enter the number of oranges you want: \"))\n",
    "    \n",
    "store.buy_oranges(requested_quantity) \n",
    "        "
   ]
  },
  {
   "cell_type": "code",
   "execution_count": null,
   "id": "4ac833c3",
   "metadata": {},
   "outputs": [],
   "source": []
  },
  {
   "cell_type": "markdown",
   "id": "88d7dbcd",
   "metadata": {},
   "source": [
    " "
   ]
  }
 ],
 "metadata": {
  "kernelspec": {
   "display_name": "Python 3 (ipykernel)",
   "language": "python",
   "name": "python3"
  },
  "language_info": {
   "codemirror_mode": {
    "name": "ipython",
    "version": 3
   },
   "file_extension": ".py",
   "mimetype": "text/x-python",
   "name": "python",
   "nbconvert_exporter": "python",
   "pygments_lexer": "ipython3",
   "version": "3.10.9"
  }
 },
 "nbformat": 4,
 "nbformat_minor": 5
}
